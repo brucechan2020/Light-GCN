{
 "cells": [
  {
   "cell_type": "markdown",
   "metadata": {},
   "source": [
    "<i>Copyright (c) Microsoft Corporation. All rights reserved.</i>\n",
    "\n",
    "<i>Licensed under the MIT License.</i>"
   ]
  },
  {
   "cell_type": "markdown",
   "metadata": {},
   "source": [
    "# LightGCN - simplified GCN model for recommendation\n",
    "\n",
    "This notebook serves as an introduction to LightGCN [1], which is an simple, linear and neat Graph Convolution Network (GCN) [3] model for recommendation."
   ]
  },
  {
   "cell_type": "markdown",
   "metadata": {},
   "source": [
    "## 0 Global Settings and Imports"
   ]
  },
  {
   "cell_type": "code",
   "execution_count": 1,
   "metadata": {},
   "outputs": [
    {
     "name": "stdout",
     "output_type": "stream",
     "text": [
      "System version: 3.7.13 (default, Oct 19 2022, 10:19:43) [MSC v.1916 64 bit (AMD64)]\n",
      "Pandas version: 1.3.5\n",
      "Tensorflow version: 2.10.0\n"
     ]
    }
   ],
   "source": [
    "import sys\n",
    "import os\n",
    "import scrapbook as sb\n",
    "import pandas as pd\n",
    "import numpy as np\n",
    "import tensorflow as tf\n",
    "tf.get_logger().setLevel('ERROR') # only show error messages\n",
    "\n",
    "from recommenders.utils.timer import Timer\n",
    "from recommenders.models.deeprec.models.graphrec.lightgcn import LightGCN\n",
    "from recommenders.models.deeprec.DataModel.ImplicitCF import ImplicitCF\n",
    "from recommenders.evaluation.python_evaluation import map_at_k, ndcg_at_k, precision_at_k, recall_at_k\n",
    "from recommenders.models.deeprec.deeprec_utils import prepare_hparams\n",
    "\n",
    "print(\"System version: {}\".format(sys.version))\n",
    "print(\"Pandas version: {}\".format(pd.__version__))\n",
    "print(\"Tensorflow version: {}\".format(tf.__version__))"
   ]
  },
  {
   "cell_type": "code",
   "execution_count": 2,
   "metadata": {},
   "outputs": [
    {
     "data": {
      "text/plain": [
       "True"
      ]
     },
     "execution_count": 2,
     "metadata": {},
     "output_type": "execute_result"
    }
   ],
   "source": [
    "tf.test.is_gpu_available()"
   ]
  },
  {
   "cell_type": "code",
   "execution_count": 3,
   "metadata": {
    "tags": [
     "parameters"
    ]
   },
   "outputs": [],
   "source": [
    "# top k items to recommend\n",
    "TOP_K = 5\n",
    "# Model parameters\n",
    "EPOCHS = 100\n",
    "BATCH_SIZE = 1024\n",
    "\n",
    "SEED = 42\n",
    "\n",
    "yaml_file = \"recommenders/models/deeprec/config/lightgcn.yaml\"\n",
    "user_file = \"lightgcn_model/user_embeddings.csv\"\n",
    "item_file = \"lightgcn_model/item_embeddings.csv\""
   ]
  },
  {
   "cell_type": "markdown",
   "metadata": {},
   "source": [
    "## 1 LightGCN model\n",
    "\n",
    "LightGCN is a simplified version of Neural Graph Collaborative Filtering (NGCF) [4], which adapts GCNs in recommendation systems.\n",
    "\n",
    "### 1.1 Graph Networks in Recommendation Systems\n",
    "\n",
    "GCN are networks that can learn patterns in graph data. They can be applied in many fields, but they are particularly well suited for Recommendation Systems, because of their ability to encode relationships.\n",
    "\n",
    "In traditional models like matrix factorization [5], user and items are represented as embeddings. And the interaction, which is the signal that encodes the behavior, is not part of the embeddings, but it is represented in the loss function, typically as a dot product. \n",
    "\n",
    "Despite their effectiveness, some authors [1,4] argue that these methods are not sufficient to yield satisfactory embeddings for collaborative filtering. The key reason is that the embedding function lacks an explicit encoding of the crucial collaborative signal, which is latent in user-item interactions to reveal the behavioral similarity between users (or items). \n",
    "\n",
    "**GCNs can be used to encode the interaction signal in the embeddings**. Interacted items can be seen as user´s features, because they provide direct evidence on a user’s preference. Similarly, the users that consume an item can be treated as the item’s features and used to measure the collaborative similarity of two items. A natural way to incorporate the interaction signal in the embedding is by exploiting the high-order connectivity from user-item interactions.\n",
    "\n",
    "In the figure below, the user-item interaction is shown (to the left) as well as the concept of higher-order connectivity (to the right).\n",
    "\n",
    "<img src=\"https://recodatasets.z20.web.core.windows.net/images/High_order_connectivity.png\" width=500 style=\"display:block; margin-left:auto; margin-right:auto;\">\n",
    "\n",
    "The high-order connectivity shows the collaborative signal in a graph form. For example, the path $u_1 ← i_2 ← u2$ indicates the behavior\n",
    "similarity between $u_1$ and $u_2$, as both users have interacted with $i_2$; the longer path $u_1 ← i_2 ← u_2 ← i_4$ suggests that $u_1$ is likely to adopt $i_4$, since her similar user $u_2$ has consumed $i_4$ before. Moreover, from the holistic view of $l = 3$, item $i_4$ is more likely to be of interest to $u_1$ than item $i_5$, since there are two paths connecting $<i_4,u_1>$, while only one path connects $<i_5,u_1>$.\n",
    "\n",
    "Based on this high-order connectivity, NGCF [4] defines an embedding propagation layer, which refines a user’s (or an item’s) embedding by aggregating the embeddings of the interacted items (or users). By stacking multiple embedding propagation layers, we can enforce the embeddings\n",
    "to capture the collaborative signal in high-order connectivities.\n",
    "\n",
    "More formally, let $\\mathbf{e}_{u}^{0}$ denote the original embedding of user $u$ and $\\mathbf{e}_{i}^{0}$ denote the original embedding of item $i$. The embedding propagation can be computed recursively as:\n",
    "\n",
    "$$\n",
    "\\begin{array}{l}\n",
    "\\mathbf{e}_{u}^{(k+1)}=\\sigma\\bigl( \\mathbf{W}_{1}\\mathbf{e}_{u}^{(k)} + \\sum_{i \\in \\mathcal{N}_{u}} \\frac{1}{\\sqrt{\\left|\\mathcal{N}_{u}\\right|} \\sqrt{\\left|\\mathcal{N}_{i}\\right|}} (\\mathbf{W}_{1}\\mathbf{e}_{i}^{(k)} + \\mathbf{W}_{2}(\\mathbf{e}_{i}^{(k)}\\cdot\\mathbf{e}_{u}^{(k)}) ) \\bigr)\n",
    "\\\\\n",
    "\\mathbf{e}_{i}^{(k+1)}=\\sigma\\bigl( \\mathbf{W}_{1}\\mathbf{e}_{i}^{(k)} +\\sum_{u \\in \\mathcal{N}_{i}} \\frac{1}{\\sqrt{\\left|\\mathcal{N}_{i}\\right|} \\sqrt{\\left|\\mathcal{N}_{u}\\right|}} (\\mathbf{W}_{1}\\mathbf{e}_{u}^{(k)} + \\mathbf{W}_{2}(\\mathbf{e}_{u}^{(k)}\\cdot\\mathbf{e}_{i}^{(k)}) ) \\bigr)\n",
    "\\end{array}\n",
    "$$\n",
    "\n",
    "where $\\mathbf{W}_{1}$ and $\\mathbf{W}_{2}$ are trainable weight matrices, $\\frac{1}{\\sqrt{\\left|\\mathcal{N}_{i}\\right|} \\sqrt{\\left|\\mathcal{N}_{u}\\right|}}$ is a discount factor expressed as the graph Laplacian norm, $\\mathcal{N}_{u}$ and $\\mathcal{N}_{i}$ denote the first-hop neighbors of user $u$ and item $i$, and $\\sigma$ is a non-linearity that in the paper is set as a LeakyReLU. \n",
    "\n",
    "To obtain the final representation, each propagated embedding is concatenated (i.e., $\\mathbf{e}_{u}^{(*)}=\\mathbf{e}_{u}^{(0)}||...||\\mathbf{e}_{u}^{(l)}$), and then the final user's preference over an item is computed as a dot product: $\\hat y_{u i} = \\mathbf{e}_{u}^{(*)T}\\mathbf{e}_{i}^{(*)}$.\n",
    "\n",
    "### 1.2 LightGCN architecture\n",
    "\n",
    "LightGCN is a simplified version of NGCF [4] to make it more concise and appropriate for recommendations. The model architecture is illustrated below.\n",
    "\n",
    "<img src=\"https://recodatasets.z20.web.core.windows.net/images/lightGCN-model.jpg\" width=600 style=\"display:block; margin-left:auto; margin-right:auto;\">\n",
    "\n",
    "In Light Graph Convolution, only the normalized sum of neighbor embeddings is performed towards next layer; other operations like self-connection, feature transformation via weight matrices, and nonlinear activation are all removed, which largely simplifies NGCF. In the layer combination step, instead of concatenating the embeddings, we sum over the embeddings at each layer to obtain the final representations.\n",
    "\n",
    "### 1.3 Light Graph Convolution (LGC)\n",
    "\n",
    "In LightGCN, we adopt the simple weighted sum aggregator and abandon the use of feature transformation and nonlinear activation. The graph convolution operation in LightGCN is defined as:\n",
    "\n",
    "$$\n",
    "\\begin{array}{l}\n",
    "\\mathbf{e}_{u}^{(k+1)}=\\sum_{i \\in \\mathcal{N}_{u}} \\frac{1}{\\sqrt{\\left|\\mathcal{N}_{u}\\right|} \\sqrt{\\left|\\mathcal{N}_{i}\\right|}} \\mathbf{e}_{i}^{(k)} \\\\\n",
    "\\mathbf{e}_{i}^{(k+1)}=\\sum_{u \\in \\mathcal{N}_{i}} \\frac{1}{\\sqrt{\\left|\\mathcal{N}_{i}\\right|} \\sqrt{\\left|\\mathcal{N}_{u}\\right|}} \\mathbf{e}_{u}^{(k)}\n",
    "\\end{array}\n",
    "$$\n",
    "\n",
    "The symmetric normalization term $\\frac{1}{\\sqrt{\\left|\\mathcal{N}_{u}\\right|} \\sqrt{\\left|\\mathcal{N}_{i}\\right|}}$ follows the design of standard GCN, which can avoid the scale of embeddings increasing with graph convolution operations.\n",
    "\n",
    "\n",
    "### 1.4 Layer Combination and Model Prediction\n",
    "\n",
    "In LightGCN, the only trainable model parameters are the embeddings at the 0-th layer, i.e., $\\mathbf{e}_{u}^{(0)}$ for all users and $\\mathbf{e}_{i}^{(0)}$ for all items. When they are given, the embeddings at higher layers can be computed via LGC. After $K$ layers LGC, we further combine the embeddings obtained at each layer to form the final representation of a user (an item):\n",
    "\n",
    "$$\n",
    "\\mathbf{e}_{u}=\\sum_{k=0}^{K} \\alpha_{k} \\mathbf{e}_{u}^{(k)} ; \\quad \\mathbf{e}_{i}=\\sum_{k=0}^{K} \\alpha_{k} \\mathbf{e}_{i}^{(k)}\n",
    "$$\n",
    "\n",
    "where $\\alpha_{k} \\geq 0$ denotes the importance of the $k$-th layer embedding in constituting the final embedding. In our experiments, we set $\\alpha_{k}$ uniformly as $1 / (K+1)$.\n",
    "\n",
    "The model prediction is defined as the inner product of user and item final representations:\n",
    "\n",
    "$$\n",
    "\\hat{y}_{u i}=\\mathbf{e}_{u}^{T} \\mathbf{e}_{i}\n",
    "$$\n",
    "\n",
    "which is used as the ranking score for recommendation generation.\n",
    "\n",
    "\n",
    "### 1.5 Matrix Form\n",
    "\n",
    "Let the user-item interaction matrix be $\\mathbf{R} \\in \\mathbb{R}^{M \\times N}$ where $M$ and $N$ denote the number of users and items, respectively, and each entry $R_{ui}$ is 1 if $u$ has interacted with item $i$ otherwise 0. We then obtain the adjacency matrix of the user-item graph as\n",
    "\n",
    "$$\n",
    "\\mathbf{A}=\\left(\\begin{array}{cc}\n",
    "\\mathbf{0} & \\mathbf{R} \\\\\n",
    "\\mathbf{R}^{T} & \\mathbf{0}\n",
    "\\end{array}\\right)\n",
    "$$\n",
    "\n",
    "Let the 0-th layer embedding matrix be $\\mathbf{E}^{(0)} \\in \\mathbb{R}^{(M+N) \\times T}$, where $T$ is the embedding size. Then we can obtain the matrix equivalent form of LGC as:\n",
    "\n",
    "$$\n",
    "\\mathbf{E}^{(k+1)}=\\left(\\mathbf{D}^{-\\frac{1}{2}} \\mathbf{A} \\mathbf{D}^{-\\frac{1}{2}}\\right) \\mathbf{E}^{(k)}\n",
    "$$\n",
    "\n",
    "where $\\mathbf{D}$ is a $(M+N) \\times(M+N)$ diagonal matrix, in which each entry $D_{ii}$ denotes the number of nonzero entries in the $i$-th row vector of the adjacency matrix $\\mathbf{A}$ (also named as degree matrix). Lastly, we get the final embedding matrix used for model prediction as:\n",
    "\n",
    "$$\n",
    "\\begin{aligned}\n",
    "\\mathbf{E} &=\\alpha_{0} \\mathbf{E}^{(0)}+\\alpha_{1} \\mathbf{E}^{(1)}+\\alpha_{2} \\mathbf{E}^{(2)}+\\ldots+\\alpha_{K} \\mathbf{E}^{(K)} \\\\\n",
    "&=\\alpha_{0} \\mathbf{E}^{(0)}+\\alpha_{1} \\tilde{\\mathbf{A}} \\mathbf{E}^{(0)}+\\alpha_{2} \\tilde{\\mathbf{A}}^{2} \\mathbf{E}^{(0)}+\\ldots+\\alpha_{K} \\tilde{\\mathbf{A}}^{K} \\mathbf{E}^{(0)}\n",
    "\\end{aligned}\n",
    "$$\n",
    "\n",
    "where $\\tilde{\\mathbf{A}}=\\mathbf{D}^{-\\frac{1}{2}} \\mathbf{A} \\mathbf{D}^{-\\frac{1}{2}}$ is the symmetrically normalized matrix.\n",
    "\n",
    "### 1.6 Model Training\n",
    "\n",
    "We employ the Bayesian Personalized Ranking (BPR) loss which is a pairwise loss that encourages the prediction of an observed entry to be higher than its unobserved counterparts:\n",
    "\n",
    "$$\n",
    "L_{B P R}=-\\sum_{u=1}^{M} \\sum_{i \\in \\mathcal{N}_{u}} \\sum_{j \\notin \\mathcal{N}_{u}} \\ln \\sigma\\left(\\hat{y}_{u i}-\\hat{y}_{u j}\\right)+\\lambda\\left\\|\\mathbf{E}^{(0)}\\right\\|^{2}\n",
    "$$\n",
    "\n",
    "Where $\\lambda$ controls the $L_2$ regularization strength. We employ the Adam optimizer and use it in a mini-batch manner.\n"
   ]
  },
  {
   "cell_type": "markdown",
   "metadata": {},
   "source": [
    "## 2 TensorFlow implementation of LightGCN with MovieLens dataset\n",
    "\n",
    "We will use the MovieLens dataset, which is composed of integer ratings from 1 to 5.\n",
    "\n",
    "We convert MovieLens into implicit feedback for model training and evaluation.\n",
    "\n",
    "### 2.1 Load and split data\n",
    "\n",
    "We split the full dataset into a `train` and `test` dataset to evaluate performance of the algorithm against a held-out set not seen during training. Because SAR generates recommendations based on user preferences, all users that are in the test set must also exist in the training set. For this case, we can use the provided `python_stratified_split` function which holds out a percentage (in this case 25%) of items from each user, but ensures all users are in both `train` and `test` datasets. Other options are available in the `dataset.python_splitters` module which provide more control over how the split occurs."
   ]
  },
  {
   "cell_type": "code",
   "execution_count": 4,
   "metadata": {},
   "outputs": [],
   "source": [
    "train = pd.read_csv('train.csv')\n",
    "test = pd.read_csv('test.csv')\n",
    "vali = pd.read_csv('vali.csv')\n"
   ]
  },
  {
   "cell_type": "markdown",
   "metadata": {},
   "source": [
    "### 2.2 Process data\n",
    "\n",
    "`ImplicitCF` is a class that intializes and loads data for the training process. During the initialization of this class, user IDs and item IDs are reindexed, ratings greater than zero are converted into implicit positive interaction, and adjacency matrix $R$ of user-item graph is created. Some important methods of `ImplicitCF` are:\n",
    "\n",
    "`get_norm_adj_mat`, load normalized adjacency matrix of user-item graph if it already exists in `adj_dir`, otherwise call `create_norm_adj_mat` to create the matrix and save the matrix if `adj_dir` is not `None`. This method will be called during the initialization process of LightGCN model.\n",
    "\n",
    "`create_norm_adj_mat`, create normalized adjacency matrix of user-item graph by calculating $D^{-\\frac{1}{2}} A D^{-\\frac{1}{2}}$, where $\\mathbf{A}=\\left(\\begin{array}{cc}\\mathbf{0} & \\mathbf{R} \\\\ \\mathbf{R}^{T} & \\mathbf{0}\\end{array}\\right)$.\n",
    "\n",
    "`train_loader`, generate a batch of training data — sample a batch of users and then sample one positive item and one negative item for each user. This method will be called before each epoch of the training process.\n"
   ]
  },
  {
   "cell_type": "code",
   "execution_count": 5,
   "metadata": {},
   "outputs": [],
   "source": [
    "data = ImplicitCF(train=train, test=test, seed=SEED)"
   ]
  },
  {
   "cell_type": "markdown",
   "metadata": {},
   "source": [
    "### 2.3 Prepare hyper-parameters\n",
    "\n",
    "Important parameters of `LightGCN` model are:\n",
    "\n",
    "`data`, initialized LightGCNDataset object.\n",
    "\n",
    "`epochs`, number of epochs for training.\n",
    "\n",
    "`n_layers`, number of layers of the model.\n",
    "\n",
    "`eval_epoch`, if it is not None, evaluation metrics will be calculated on test set every \"eval_epoch\" epochs. In this way, we can observe the effect of the model during the training process.\n",
    "\n",
    "`top_k`, the number of items to be recommended for each user when calculating ranking metrics.\n",
    "\n",
    "A complete list of parameters can be found in `yaml_file`. We use `prepare_hparams` to read the yaml file and prepare a full set of parameters for the model. Parameters passed as the function's parameters will overwrite yaml settings."
   ]
  },
  {
   "cell_type": "code",
   "execution_count": 6,
   "metadata": {},
   "outputs": [],
   "source": [
    "hparams = prepare_hparams(yaml_file,\n",
    "                          n_layers=3,\n",
    "                          batch_size=BATCH_SIZE,\n",
    "                          epochs=EPOCHS,\n",
    "                          learning_rate=0.005,\n",
    "                          eval_epoch=5,\n",
    "                          top_k=TOP_K,\n",
    "                         )"
   ]
  },
  {
   "cell_type": "markdown",
   "metadata": {},
   "source": [
    "### 2.4 Create and train model\n",
    "\n",
    "With data and parameters prepared, we can create the LightGCN model.\n",
    "\n",
    "To train the model, we simply need to call the `fit()` method."
   ]
  },
  {
   "cell_type": "code",
   "execution_count": 7,
   "metadata": {},
   "outputs": [
    {
     "name": "stdout",
     "output_type": "stream",
     "text": [
      "Already create adjacency matrix.\n",
      "Already normalize adjacency matrix.\n",
      "Using xavier initialization.\n"
     ]
    },
    {
     "name": "stderr",
     "output_type": "stream",
     "text": [
      "c:\\Users\\Bruce\\anaconda3\\envs\\py37\\lib\\site-packages\\keras\\initializers\\initializers_v2.py:121: UserWarning: The initializer VarianceScaling is unseeded and being called multiple times, which will return identical values  each time (even if the initializer is unseeded). Please update your code to provide a seed to the initializer, or avoid using the same initalizer instance more than once.\n",
      "  f\"The initializer {self.__class__.__name__} is unseeded \"\n"
     ]
    }
   ],
   "source": [
    "model = LightGCN(hparams, data, seed=SEED)"
   ]
  },
  {
   "cell_type": "code",
   "execution_count": 8,
   "metadata": {},
   "outputs": [
    {
     "name": "stdout",
     "output_type": "stream",
     "text": [
      "Epoch 1 (train)0.9s: train loss = 0.59251 = (mf)0.59237 + (embed)0.00013\n",
      "Epoch 2 (train)0.7s: train loss = 0.46807 = (mf)0.46765 + (embed)0.00042\n",
      "Epoch 3 (train)0.8s: train loss = 0.43438 = (mf)0.43384 + (embed)0.00054\n",
      "Epoch 4 (train)0.8s: train loss = 0.40137 = (mf)0.40067 + (embed)0.00070\n",
      "Epoch 5 (train)0.8s + (eval)1.9s: train loss = 0.37343 = (mf)0.37254 + (embed)0.00089, recall = 0.03145, ndcg = 0.04517, precision = 0.03888, map = 0.01573\n",
      "Epoch 6 (train)1.0s: train loss = 0.35036 = (mf)0.34929 + (embed)0.00107\n",
      "Epoch 7 (train)0.8s: train loss = 0.32831 = (mf)0.32704 + (embed)0.00127\n",
      "Epoch 8 (train)0.8s: train loss = 0.30267 = (mf)0.30119 + (embed)0.00147\n",
      "Epoch 9 (train)0.8s: train loss = 0.28483 = (mf)0.28313 + (embed)0.00169\n",
      "Epoch 10 (train)0.9s + (eval)0.4s: train loss = 0.26564 = (mf)0.26370 + (embed)0.00194, recall = 0.03825, ndcg = 0.05568, precision = 0.04715, map = 0.02066\n",
      "Epoch 11 (train)0.8s: train loss = 0.24183 = (mf)0.23963 + (embed)0.00219\n",
      "Epoch 12 (train)0.8s: train loss = 0.22243 = (mf)0.21997 + (embed)0.00246\n",
      "Epoch 13 (train)0.8s: train loss = 0.20624 = (mf)0.20350 + (embed)0.00274\n",
      "Epoch 14 (train)0.9s: train loss = 0.18623 = (mf)0.18320 + (embed)0.00303\n",
      "Epoch 15 (train)0.7s + (eval)0.4s: train loss = 0.17270 = (mf)0.16938 + (embed)0.00331, recall = 0.04149, ndcg = 0.06126, precision = 0.05159, map = 0.02301\n",
      "Epoch 16 (train)0.8s: train loss = 0.16024 = (mf)0.15664 + (embed)0.00360\n",
      "Epoch 17 (train)0.9s: train loss = 0.14816 = (mf)0.14427 + (embed)0.00389\n",
      "Epoch 18 (train)0.9s: train loss = 0.13677 = (mf)0.13260 + (embed)0.00417\n",
      "Epoch 19 (train)0.9s: train loss = 0.12946 = (mf)0.12503 + (embed)0.00443\n",
      "Save model to path d:\\LightGCN\\lightgcn_model\\epoch_20\n",
      "Epoch 20 (train)0.9s + (eval)0.4s: train loss = 0.12259 = (mf)0.11790 + (embed)0.00469, recall = 0.04072, ndcg = 0.06110, precision = 0.05086, map = 0.02303\n",
      "Epoch 21 (train)0.8s: train loss = 0.11387 = (mf)0.10893 + (embed)0.00494\n",
      "Epoch 22 (train)0.8s: train loss = 0.10583 = (mf)0.10064 + (embed)0.00519\n",
      "Epoch 23 (train)0.8s: train loss = 0.10097 = (mf)0.09554 + (embed)0.00543\n",
      "Epoch 24 (train)0.8s: train loss = 0.09674 = (mf)0.09108 + (embed)0.00566\n",
      "Epoch 25 (train)0.9s + (eval)0.4s: train loss = 0.09123 = (mf)0.08534 + (embed)0.00589, recall = 0.03919, ndcg = 0.06033, precision = 0.05019, map = 0.02271\n",
      "Epoch 26 (train)1.0s: train loss = 0.08647 = (mf)0.08036 + (embed)0.00611\n",
      "Epoch 27 (train)0.8s: train loss = 0.08351 = (mf)0.07718 + (embed)0.00633\n",
      "Epoch 28 (train)0.8s: train loss = 0.08075 = (mf)0.07421 + (embed)0.00653\n",
      "Epoch 29 (train)0.9s: train loss = 0.07478 = (mf)0.06805 + (embed)0.00673\n",
      "Epoch 30 (train)0.8s + (eval)0.4s: train loss = 0.07318 = (mf)0.06624 + (embed)0.00693, recall = 0.03884, ndcg = 0.05910, precision = 0.04880, map = 0.02229\n",
      "Epoch 31 (train)0.9s: train loss = 0.07041 = (mf)0.06329 + (embed)0.00712\n",
      "Epoch 32 (train)0.7s: train loss = 0.06684 = (mf)0.05953 + (embed)0.00731\n",
      "Epoch 33 (train)0.8s: train loss = 0.06572 = (mf)0.05823 + (embed)0.00749\n",
      "Epoch 34 (train)0.8s: train loss = 0.06430 = (mf)0.05663 + (embed)0.00767\n",
      "Epoch 35 (train)0.9s + (eval)0.4s: train loss = 0.06290 = (mf)0.05506 + (embed)0.00784, recall = 0.03848, ndcg = 0.05738, precision = 0.04756, map = 0.02163\n",
      "Epoch 36 (train)0.9s: train loss = 0.05962 = (mf)0.05160 + (embed)0.00801\n",
      "Epoch 37 (train)0.7s: train loss = 0.05680 = (mf)0.04862 + (embed)0.00817\n",
      "Epoch 38 (train)0.8s: train loss = 0.05718 = (mf)0.04884 + (embed)0.00834\n",
      "Epoch 39 (train)0.8s: train loss = 0.05551 = (mf)0.04703 + (embed)0.00848\n",
      "Save model to path d:\\LightGCN\\lightgcn_model\\epoch_40\n",
      "Epoch 40 (train)0.8s + (eval)0.4s: train loss = 0.05329 = (mf)0.04465 + (embed)0.00864, recall = 0.03747, ndcg = 0.05616, precision = 0.04725, map = 0.02091\n",
      "Epoch 41 (train)0.9s: train loss = 0.05318 = (mf)0.04439 + (embed)0.00878\n",
      "Epoch 42 (train)0.7s: train loss = 0.05202 = (mf)0.04309 + (embed)0.00893\n",
      "Epoch 43 (train)0.8s: train loss = 0.05013 = (mf)0.04107 + (embed)0.00906\n",
      "Epoch 44 (train)0.8s: train loss = 0.04944 = (mf)0.04023 + (embed)0.00920\n",
      "Epoch 45 (train)0.9s + (eval)0.5s: train loss = 0.04847 = (mf)0.03913 + (embed)0.00935, recall = 0.03730, ndcg = 0.05390, precision = 0.04565, map = 0.01994\n",
      "Epoch 46 (train)0.9s: train loss = 0.04697 = (mf)0.03750 + (embed)0.00947\n",
      "Epoch 47 (train)0.8s: train loss = 0.04662 = (mf)0.03702 + (embed)0.00960\n",
      "Epoch 48 (train)0.8s: train loss = 0.04423 = (mf)0.03451 + (embed)0.00973\n",
      "Epoch 49 (train)0.8s: train loss = 0.04525 = (mf)0.03541 + (embed)0.00984\n",
      "Epoch 50 (train)0.9s + (eval)0.4s: train loss = 0.04385 = (mf)0.03390 + (embed)0.00995, recall = 0.03600, ndcg = 0.05289, precision = 0.04441, map = 0.01984\n",
      "Epoch 51 (train)0.8s: train loss = 0.04197 = (mf)0.03189 + (embed)0.01008\n",
      "Epoch 52 (train)0.9s: train loss = 0.04269 = (mf)0.03250 + (embed)0.01018\n",
      "Epoch 53 (train)0.9s: train loss = 0.04098 = (mf)0.03068 + (embed)0.01029\n",
      "Epoch 54 (train)0.9s: train loss = 0.04099 = (mf)0.03059 + (embed)0.01040\n",
      "Epoch 55 (train)0.7s + (eval)0.4s: train loss = 0.04090 = (mf)0.03039 + (embed)0.01051, recall = 0.03447, ndcg = 0.05059, precision = 0.04276, map = 0.01864\n",
      "Epoch 56 (train)0.9s: train loss = 0.04076 = (mf)0.03014 + (embed)0.01061\n",
      "Epoch 57 (train)0.7s: train loss = 0.03874 = (mf)0.02802 + (embed)0.01072\n",
      "Epoch 58 (train)0.8s: train loss = 0.03919 = (mf)0.02838 + (embed)0.01081\n",
      "Epoch 59 (train)0.8s: train loss = 0.03881 = (mf)0.02789 + (embed)0.01092\n",
      "Save model to path d:\\LightGCN\\lightgcn_model\\epoch_60\n",
      "Epoch 60 (train)0.8s + (eval)0.5s: train loss = 0.03794 = (mf)0.02693 + (embed)0.01101, recall = 0.03548, ndcg = 0.05050, precision = 0.04250, map = 0.01878\n",
      "Epoch 61 (train)1.0s: train loss = 0.03748 = (mf)0.02638 + (embed)0.01110\n",
      "Epoch 62 (train)0.7s: train loss = 0.03651 = (mf)0.02532 + (embed)0.01119\n",
      "Epoch 63 (train)0.8s: train loss = 0.03667 = (mf)0.02540 + (embed)0.01127\n",
      "Epoch 64 (train)0.9s: train loss = 0.03578 = (mf)0.02442 + (embed)0.01135\n",
      "Epoch 65 (train)0.8s + (eval)0.4s: train loss = 0.03599 = (mf)0.02455 + (embed)0.01144, recall = 0.03430, ndcg = 0.04904, precision = 0.04157, map = 0.01816\n",
      "Epoch 66 (train)0.8s: train loss = 0.03554 = (mf)0.02403 + (embed)0.01151\n",
      "Epoch 67 (train)0.8s: train loss = 0.03512 = (mf)0.02352 + (embed)0.01159\n",
      "Epoch 68 (train)0.9s: train loss = 0.03480 = (mf)0.02314 + (embed)0.01166\n",
      "Epoch 69 (train)0.9s: train loss = 0.03449 = (mf)0.02274 + (embed)0.01175\n",
      "Epoch 70 (train)0.9s + (eval)0.5s: train loss = 0.03418 = (mf)0.02236 + (embed)0.01181, recall = 0.03365, ndcg = 0.04817, precision = 0.04111, map = 0.01759\n",
      "Epoch 71 (train)1.0s: train loss = 0.03318 = (mf)0.02130 + (embed)0.01189\n",
      "Epoch 72 (train)0.9s: train loss = 0.03342 = (mf)0.02145 + (embed)0.01196\n",
      "Epoch 73 (train)0.9s: train loss = 0.03242 = (mf)0.02038 + (embed)0.01203\n",
      "Epoch 74 (train)0.8s: train loss = 0.03281 = (mf)0.02072 + (embed)0.01209\n",
      "Epoch 75 (train)0.8s + (eval)0.5s: train loss = 0.03288 = (mf)0.02072 + (embed)0.01216, recall = 0.03285, ndcg = 0.04772, precision = 0.03971, map = 0.01787\n",
      "Epoch 76 (train)0.9s: train loss = 0.03251 = (mf)0.02029 + (embed)0.01222\n",
      "Epoch 77 (train)0.7s: train loss = 0.03239 = (mf)0.02011 + (embed)0.01228\n",
      "Epoch 78 (train)0.8s: train loss = 0.03287 = (mf)0.02053 + (embed)0.01234\n",
      "Epoch 79 (train)0.8s: train loss = 0.03152 = (mf)0.01912 + (embed)0.01240\n",
      "Save model to path d:\\LightGCN\\lightgcn_model\\epoch_80\n",
      "Epoch 80 (train)0.8s + (eval)0.4s: train loss = 0.03146 = (mf)0.01901 + (embed)0.01246, recall = 0.03369, ndcg = 0.04717, precision = 0.04002, map = 0.01744\n",
      "Epoch 81 (train)0.9s: train loss = 0.03084 = (mf)0.01833 + (embed)0.01251\n",
      "Epoch 82 (train)0.7s: train loss = 0.03115 = (mf)0.01859 + (embed)0.01256\n",
      "Epoch 83 (train)0.7s: train loss = 0.03062 = (mf)0.01801 + (embed)0.01261\n",
      "Epoch 84 (train)0.8s: train loss = 0.03151 = (mf)0.01884 + (embed)0.01267\n",
      "Epoch 85 (train)0.9s + (eval)0.4s: train loss = 0.03059 = (mf)0.01787 + (embed)0.01272, recall = 0.03276, ndcg = 0.04690, precision = 0.03935, map = 0.01735\n",
      "Epoch 86 (train)1.0s: train loss = 0.03077 = (mf)0.01801 + (embed)0.01276\n",
      "Epoch 87 (train)0.7s: train loss = 0.03039 = (mf)0.01758 + (embed)0.01281\n",
      "Epoch 88 (train)0.7s: train loss = 0.03017 = (mf)0.01731 + (embed)0.01286\n",
      "Epoch 89 (train)0.8s: train loss = 0.02990 = (mf)0.01700 + (embed)0.01290\n",
      "Epoch 90 (train)0.8s + (eval)0.4s: train loss = 0.02978 = (mf)0.01684 + (embed)0.01295, recall = 0.03090, ndcg = 0.04485, precision = 0.03826, map = 0.01642\n",
      "Epoch 91 (train)0.9s: train loss = 0.02963 = (mf)0.01664 + (embed)0.01299\n",
      "Epoch 92 (train)0.8s: train loss = 0.02959 = (mf)0.01656 + (embed)0.01302\n",
      "Epoch 93 (train)0.8s: train loss = 0.02957 = (mf)0.01651 + (embed)0.01306\n",
      "Epoch 94 (train)0.8s: train loss = 0.02992 = (mf)0.01681 + (embed)0.01310\n",
      "Epoch 95 (train)0.9s + (eval)0.4s: train loss = 0.02927 = (mf)0.01613 + (embed)0.01314, recall = 0.03098, ndcg = 0.04539, precision = 0.03847, map = 0.01685\n",
      "Epoch 96 (train)0.7s: train loss = 0.02910 = (mf)0.01593 + (embed)0.01317\n",
      "Epoch 97 (train)0.8s: train loss = 0.02962 = (mf)0.01641 + (embed)0.01321\n",
      "Epoch 98 (train)0.8s: train loss = 0.02898 = (mf)0.01573 + (embed)0.01324\n",
      "Epoch 99 (train)0.8s: train loss = 0.02855 = (mf)0.01527 + (embed)0.01328\n",
      "Save model to path d:\\LightGCN\\lightgcn_model\\epoch_100\n",
      "Epoch 100 (train)0.9s + (eval)0.4s: train loss = 0.02865 = (mf)0.01534 + (embed)0.01331, recall = 0.03109, ndcg = 0.04483, precision = 0.03826, map = 0.01666\n",
      "Took 93.3517741 seconds for training.\n"
     ]
    }
   ],
   "source": [
    "with Timer() as train_time:\n",
    "    model.fit()\n",
    "\n",
    "print(\"Took {} seconds for training.\".format(train_time.interval))"
   ]
  },
  {
   "cell_type": "markdown",
   "metadata": {},
   "source": [
    "### Recommendation and Evaluation"
   ]
  },
  {
   "cell_type": "markdown",
   "metadata": {},
   "source": [
    "\n",
    "With `topk_scores` predicted by the model, we can evaluate how LightGCN performs on this vali set."
   ]
  },
  {
   "cell_type": "code",
   "execution_count": 9,
   "metadata": {},
   "outputs": [],
   "source": [
    "topk_scores = model.recommend_k_items(test, top_k=10, remove_seen=True)\n",
    "topk_scores.to_csv(\"result.csv\",index=False)"
   ]
  },
  {
   "cell_type": "code",
   "execution_count": 10,
   "metadata": {},
   "outputs": [
    {
     "name": "stdout",
     "output_type": "stream",
     "text": [
      "test data\n",
      "MAP:\t0.016655\n",
      "NDCG:\t0.044830\n",
      "Precision@K:\t0.038265\n",
      "Recall@K:\t0.031089\n"
     ]
    }
   ],
   "source": [
    "eval_map = map_at_k(test, topk_scores, k=TOP_K)\n",
    "eval_ndcg = ndcg_at_k(test, topk_scores, k=TOP_K)\n",
    "eval_precision = precision_at_k(test, topk_scores, k=TOP_K)\n",
    "eval_recall = recall_at_k(test, topk_scores, k=TOP_K)\n",
    "print('test data')\n",
    "print(\"MAP:\\t%f\" % eval_map,\n",
    "      \"NDCG:\\t%f\" % eval_ndcg,\n",
    "      \"Precision@K:\\t%f\" % eval_precision,\n",
    "      \"Recall@K:\\t%f\" % eval_recall, sep='\\n')"
   ]
  },
  {
   "cell_type": "markdown",
   "metadata": {},
   "source": [
    "### 2.6 Infer embeddings\n",
    "\n",
    "With `infer_embedding` method of LightGCN model, we can export the embeddings of users and items in the training set to CSV files for future use."
   ]
  },
  {
   "cell_type": "code",
   "execution_count": 11,
   "metadata": {},
   "outputs": [],
   "source": [
    "model.infer_embedding(user_file, item_file)"
   ]
  }
 ],
 "metadata": {
  "celltoolbar": "Tags",
  "kernelspec": {
   "display_name": "py37",
   "language": "python",
   "name": "python3"
  },
  "language_info": {
   "codemirror_mode": {
    "name": "ipython",
    "version": 3
   },
   "file_extension": ".py",
   "mimetype": "text/x-python",
   "name": "python",
   "nbconvert_exporter": "python",
   "pygments_lexer": "ipython3",
   "version": "3.7.13"
  },
  "vscode": {
   "interpreter": {
    "hash": "e9f20c719784fe8b343914b5aa0b3c5c7f8f972eae0e623e8ff924525224e94f"
   }
  }
 },
 "nbformat": 4,
 "nbformat_minor": 2
}
